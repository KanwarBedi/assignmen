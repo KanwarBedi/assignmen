{
 "cells": [
  {
   "cell_type": "code",
   "execution_count": 105,
   "id": "335b7031-e7f4-4820-b95f-e3c55e69764a",
   "metadata": {},
   "outputs": [],
   "source": [
    "import pandas as pd\n",
    "from fredapi import Fred\n",
    "\n",
    "# Initialize the FRED API\n",
    "fred = Fred(api_key='my_api_key')\n"
   ]
  },
  {
   "cell_type": "code",
   "execution_count": 106,
   "id": "180803b0-814f-44ed-b22e-511cb5ae0b4c",
   "metadata": {},
   "outputs": [],
   "source": [
    "case_shiller = fred.get_series('CSUSHPISA')"
   ]
  },
  {
   "cell_type": "code",
   "execution_count": 107,
   "id": "d4932d91-6752-4618-8e3a-a5f424c9834f",
   "metadata": {},
   "outputs": [
    {
     "name": "stdout",
     "output_type": "stream",
     "text": [
      "<class 'pandas.core.series.Series'>\n",
      "DatetimeIndex: 590 entries, 1975-01-01 to 2024-02-01\n",
      "Series name: None\n",
      "Non-Null Count  Dtype  \n",
      "--------------  -----  \n",
      "446 non-null    float64\n",
      "dtypes: float64(1)\n",
      "memory usage: 9.2 KB\n"
     ]
    }
   ],
   "source": [
    "case_shiller.info()"
   ]
  },
  {
   "cell_type": "code",
   "execution_count": 108,
   "id": "0a27713e-953a-4b52-8030-7376adc68d12",
   "metadata": {},
   "outputs": [],
   "source": [
    "case_shiller = case_shiller.to_frame(name=None)"
   ]
  },
  {
   "cell_type": "code",
   "execution_count": 109,
   "id": "91eae650-0a10-4354-adc6-d2a7f4590f02",
   "metadata": {},
   "outputs": [
    {
     "name": "stdout",
     "output_type": "stream",
     "text": [
      "<class 'pandas.core.frame.DataFrame'>\n",
      "DatetimeIndex: 590 entries, 1975-01-01 to 2024-02-01\n",
      "Data columns (total 1 columns):\n",
      " #   Column  Non-Null Count  Dtype  \n",
      "---  ------  --------------  -----  \n",
      " 0   None    446 non-null    float64\n",
      "dtypes: float64(1)\n",
      "memory usage: 9.2 KB\n"
     ]
    }
   ],
   "source": [
    "case_shiller.info()"
   ]
  },
  {
   "cell_type": "code",
   "execution_count": 110,
   "id": "a36ce1ad-8d9f-4e2b-9305-41e468b02862",
   "metadata": {},
   "outputs": [],
   "source": [
    "start_date = '2000-01-01'\n",
    "end_date = '2020-01-01'\n",
    "\n",
    "# Filter the DataFrame by the specified period\n",
    "filtered_df = case_shiller[start_date:end_date]"
   ]
  },
  {
   "cell_type": "code",
   "execution_count": 111,
   "id": "0f01a84b-b925-470e-b5fe-76b4b729f24c",
   "metadata": {},
   "outputs": [
    {
     "name": "stdout",
     "output_type": "stream",
     "text": [
      "<class 'pandas.core.frame.DataFrame'>\n",
      "DatetimeIndex: 241 entries, 2000-01-01 to 2020-01-01\n",
      "Data columns (total 1 columns):\n",
      " #   Column  Non-Null Count  Dtype  \n",
      "---  ------  --------------  -----  \n",
      " 0   None    241 non-null    float64\n",
      "dtypes: float64(1)\n",
      "memory usage: 3.8 KB\n"
     ]
    }
   ],
   "source": [
    "filtered_df.info()"
   ]
  },
  {
   "cell_type": "code",
   "execution_count": 112,
   "id": "52c3a600-ff7b-4ca6-91ca-4e508b929396",
   "metadata": {},
   "outputs": [],
   "source": [
    "df_reset = filtered_df.reset_index()\n",
    "\n",
    "# Rename the new column for clarity (optional)\n",
    "df_reset = df_reset.rename(columns={'index': 'Date', None:'Home_Price_Index' })"
   ]
  },
  {
   "cell_type": "code",
   "execution_count": 113,
   "id": "d67a8efc-a929-4618-8584-5b1071029827",
   "metadata": {},
   "outputs": [
    {
     "data": {
      "text/html": [
       "<div>\n",
       "<style scoped>\n",
       "    .dataframe tbody tr th:only-of-type {\n",
       "        vertical-align: middle;\n",
       "    }\n",
       "\n",
       "    .dataframe tbody tr th {\n",
       "        vertical-align: top;\n",
       "    }\n",
       "\n",
       "    .dataframe thead th {\n",
       "        text-align: right;\n",
       "    }\n",
       "</style>\n",
       "<table border=\"1\" class=\"dataframe\">\n",
       "  <thead>\n",
       "    <tr style=\"text-align: right;\">\n",
       "      <th></th>\n",
       "      <th>Date</th>\n",
       "      <th>Home_Price_Index</th>\n",
       "    </tr>\n",
       "  </thead>\n",
       "  <tbody>\n",
       "    <tr>\n",
       "      <th>0</th>\n",
       "      <td>2000-01-01</td>\n",
       "      <td>100.552</td>\n",
       "    </tr>\n",
       "    <tr>\n",
       "      <th>1</th>\n",
       "      <td>2000-02-01</td>\n",
       "      <td>101.339</td>\n",
       "    </tr>\n",
       "    <tr>\n",
       "      <th>2</th>\n",
       "      <td>2000-03-01</td>\n",
       "      <td>102.126</td>\n",
       "    </tr>\n",
       "    <tr>\n",
       "      <th>3</th>\n",
       "      <td>2000-04-01</td>\n",
       "      <td>102.922</td>\n",
       "    </tr>\n",
       "    <tr>\n",
       "      <th>4</th>\n",
       "      <td>2000-05-01</td>\n",
       "      <td>103.678</td>\n",
       "    </tr>\n",
       "  </tbody>\n",
       "</table>\n",
       "</div>"
      ],
      "text/plain": [
       "        Date  Home_Price_Index\n",
       "0 2000-01-01           100.552\n",
       "1 2000-02-01           101.339\n",
       "2 2000-03-01           102.126\n",
       "3 2000-04-01           102.922\n",
       "4 2000-05-01           103.678"
      ]
     },
     "execution_count": 113,
     "metadata": {},
     "output_type": "execute_result"
    }
   ],
   "source": [
    "df_reset.head()"
   ]
  },
  {
   "cell_type": "code",
   "execution_count": 114,
   "id": "5a9af9c7-0f5a-457a-8add-76cbd3059d44",
   "metadata": {},
   "outputs": [],
   "source": [
    "federal_funds_rate = fred.get_series('FEDFUNDS')"
   ]
  },
  {
   "cell_type": "code",
   "execution_count": 115,
   "id": "ddf98c5e-f0b8-44d9-b0f9-ff514327ac1b",
   "metadata": {},
   "outputs": [
    {
     "name": "stdout",
     "output_type": "stream",
     "text": [
      "<class 'pandas.core.series.Series'>\n",
      "DatetimeIndex: 838 entries, 1954-07-01 to 2024-04-01\n",
      "Series name: None\n",
      "Non-Null Count  Dtype  \n",
      "--------------  -----  \n",
      "838 non-null    float64\n",
      "dtypes: float64(1)\n",
      "memory usage: 13.1 KB\n"
     ]
    }
   ],
   "source": [
    "federal_funds_rate.info()"
   ]
  },
  {
   "cell_type": "code",
   "execution_count": 116,
   "id": "12c7a23a-9fcb-4065-be67-def81a36ad54",
   "metadata": {},
   "outputs": [],
   "source": [
    "federal_funds_rate = federal_funds_rate.to_frame(name=None)"
   ]
  },
  {
   "cell_type": "code",
   "execution_count": 117,
   "id": "5f9f3897-765b-49f0-b8be-a14c9922edce",
   "metadata": {},
   "outputs": [
    {
     "name": "stdout",
     "output_type": "stream",
     "text": [
      "<class 'pandas.core.frame.DataFrame'>\n",
      "DatetimeIndex: 838 entries, 1954-07-01 to 2024-04-01\n",
      "Data columns (total 1 columns):\n",
      " #   Column  Non-Null Count  Dtype  \n",
      "---  ------  --------------  -----  \n",
      " 0   None    838 non-null    float64\n",
      "dtypes: float64(1)\n",
      "memory usage: 13.1 KB\n"
     ]
    }
   ],
   "source": [
    "federal_funds_rate.info()"
   ]
  },
  {
   "cell_type": "code",
   "execution_count": 118,
   "id": "2c14675f-1d55-4520-a410-c0caeb4bf946",
   "metadata": {},
   "outputs": [],
   "source": [
    "# Filter the DataFrame by the specified period\n",
    "filtered_df_ffr = federal_funds_rate[start_date:end_date]"
   ]
  },
  {
   "cell_type": "code",
   "execution_count": 119,
   "id": "8871fa63-7de8-4d80-b757-ac0e6ca74e75",
   "metadata": {},
   "outputs": [
    {
     "name": "stdout",
     "output_type": "stream",
     "text": [
      "<class 'pandas.core.frame.DataFrame'>\n",
      "DatetimeIndex: 241 entries, 2000-01-01 to 2020-01-01\n",
      "Data columns (total 1 columns):\n",
      " #   Column  Non-Null Count  Dtype  \n",
      "---  ------  --------------  -----  \n",
      " 0   None    241 non-null    float64\n",
      "dtypes: float64(1)\n",
      "memory usage: 3.8 KB\n"
     ]
    }
   ],
   "source": [
    "filtered_df_ffr.info()"
   ]
  },
  {
   "cell_type": "code",
   "execution_count": 120,
   "id": "797be77f-6ce8-4f78-b522-ef886c66640d",
   "metadata": {},
   "outputs": [],
   "source": [
    "df_reset_ffr = filtered_df_ffr.reset_index()\n",
    "\n",
    "# Rename the new column for clarity (optional)\n",
    "df_reset_ffr = df_reset_ffr.rename(columns={'index': 'Date', None:'Feds_fund_rate' })"
   ]
  },
  {
   "cell_type": "code",
   "execution_count": 121,
   "id": "28757fc6-f6ae-4221-a4ba-b71cff639216",
   "metadata": {},
   "outputs": [
    {
     "data": {
      "text/html": [
       "<div>\n",
       "<style scoped>\n",
       "    .dataframe tbody tr th:only-of-type {\n",
       "        vertical-align: middle;\n",
       "    }\n",
       "\n",
       "    .dataframe tbody tr th {\n",
       "        vertical-align: top;\n",
       "    }\n",
       "\n",
       "    .dataframe thead th {\n",
       "        text-align: right;\n",
       "    }\n",
       "</style>\n",
       "<table border=\"1\" class=\"dataframe\">\n",
       "  <thead>\n",
       "    <tr style=\"text-align: right;\">\n",
       "      <th></th>\n",
       "      <th>Date</th>\n",
       "      <th>Feds_fund_rate</th>\n",
       "    </tr>\n",
       "  </thead>\n",
       "  <tbody>\n",
       "    <tr>\n",
       "      <th>0</th>\n",
       "      <td>2000-01-01</td>\n",
       "      <td>5.45</td>\n",
       "    </tr>\n",
       "    <tr>\n",
       "      <th>1</th>\n",
       "      <td>2000-02-01</td>\n",
       "      <td>5.73</td>\n",
       "    </tr>\n",
       "    <tr>\n",
       "      <th>2</th>\n",
       "      <td>2000-03-01</td>\n",
       "      <td>5.85</td>\n",
       "    </tr>\n",
       "    <tr>\n",
       "      <th>3</th>\n",
       "      <td>2000-04-01</td>\n",
       "      <td>6.02</td>\n",
       "    </tr>\n",
       "    <tr>\n",
       "      <th>4</th>\n",
       "      <td>2000-05-01</td>\n",
       "      <td>6.27</td>\n",
       "    </tr>\n",
       "  </tbody>\n",
       "</table>\n",
       "</div>"
      ],
      "text/plain": [
       "        Date  Feds_fund_rate\n",
       "0 2000-01-01            5.45\n",
       "1 2000-02-01            5.73\n",
       "2 2000-03-01            5.85\n",
       "3 2000-04-01            6.02\n",
       "4 2000-05-01            6.27"
      ]
     },
     "execution_count": 121,
     "metadata": {},
     "output_type": "execute_result"
    }
   ],
   "source": [
    "df_reset_ffr.head()"
   ]
  },
  {
   "cell_type": "code",
   "execution_count": 124,
   "id": "50a62ce0-2a5d-4384-a19a-ff120012ee23",
   "metadata": {},
   "outputs": [
    {
     "name": "stdout",
     "output_type": "stream",
     "text": [
      "<class 'pandas.core.frame.DataFrame'>\n",
      "RangeIndex: 241 entries, 0 to 240\n",
      "Data columns (total 2 columns):\n",
      " #   Column          Non-Null Count  Dtype         \n",
      "---  ------          --------------  -----         \n",
      " 0   Date            241 non-null    datetime64[ns]\n",
      " 1   Feds_fund_rate  241 non-null    float64       \n",
      "dtypes: datetime64[ns](1), float64(1)\n",
      "memory usage: 3.9 KB\n"
     ]
    }
   ],
   "source": [
    "df_reset_ffr.info()"
   ]
  },
  {
   "cell_type": "code",
   "execution_count": 125,
   "id": "50188ab6-2427-4fed-9d38-22a36af1fb29",
   "metadata": {},
   "outputs": [
    {
     "name": "stdout",
     "output_type": "stream",
     "text": [
      "<class 'pandas.core.series.Series'>\n",
      "DatetimeIndex: 916 entries, 1948-01-01 to 2024-04-01\n",
      "Series name: None\n",
      "Non-Null Count  Dtype  \n",
      "--------------  -----  \n",
      "916 non-null    float64\n",
      "dtypes: float64(1)\n",
      "memory usage: 14.3 KB\n"
     ]
    }
   ],
   "source": [
    "unemployment_rate = fred.get_series('UNRATE')\n",
    "unemployment_rate.info()"
   ]
  },
  {
   "cell_type": "code",
   "execution_count": 126,
   "id": "73173712-2f9e-4b79-ac87-0c09892c2530",
   "metadata": {},
   "outputs": [
    {
     "name": "stdout",
     "output_type": "stream",
     "text": [
      "<class 'pandas.core.frame.DataFrame'>\n",
      "DatetimeIndex: 916 entries, 1948-01-01 to 2024-04-01\n",
      "Data columns (total 1 columns):\n",
      " #   Column  Non-Null Count  Dtype  \n",
      "---  ------  --------------  -----  \n",
      " 0   None    916 non-null    float64\n",
      "dtypes: float64(1)\n",
      "memory usage: 14.3 KB\n"
     ]
    }
   ],
   "source": [
    "unemployment_rate = unemployment_rate.to_frame(name=None)\n",
    "unemployment_rate.info()"
   ]
  },
  {
   "cell_type": "code",
   "execution_count": 127,
   "id": "f3acbe89-0db1-4d6f-9dc2-a2d051a9870d",
   "metadata": {},
   "outputs": [
    {
     "name": "stdout",
     "output_type": "stream",
     "text": [
      "<class 'pandas.core.frame.DataFrame'>\n",
      "DatetimeIndex: 241 entries, 2000-01-01 to 2020-01-01\n",
      "Data columns (total 1 columns):\n",
      " #   Column  Non-Null Count  Dtype  \n",
      "---  ------  --------------  -----  \n",
      " 0   None    241 non-null    float64\n",
      "dtypes: float64(1)\n",
      "memory usage: 3.8 KB\n"
     ]
    }
   ],
   "source": [
    "filtered_df_ur = unemployment_rate[start_date:end_date]\n",
    "filtered_df_ur.info()"
   ]
  },
  {
   "cell_type": "code",
   "execution_count": 129,
   "id": "6848629f-d855-42c7-a2ba-d227aaa0fbea",
   "metadata": {},
   "outputs": [
    {
     "name": "stdout",
     "output_type": "stream",
     "text": [
      "<class 'pandas.core.frame.DataFrame'>\n",
      "RangeIndex: 241 entries, 0 to 240\n",
      "Data columns (total 2 columns):\n",
      " #   Column             Non-Null Count  Dtype         \n",
      "---  ------             --------------  -----         \n",
      " 0   Date               241 non-null    datetime64[ns]\n",
      " 1   unemployment_rate  241 non-null    float64       \n",
      "dtypes: datetime64[ns](1), float64(1)\n",
      "memory usage: 3.9 KB\n"
     ]
    }
   ],
   "source": [
    "df_reset_ur = filtered_df_ur.reset_index()\n",
    "\n",
    "# Rename the new column for clarity (optional)\n",
    "df_reset_ur = df_reset_ur.rename(columns={'index': 'Date', None:'unemployment_rate' })\n",
    "df_reset_ur.head()\n",
    "df_reset_ur.info()"
   ]
  },
  {
   "cell_type": "code",
   "execution_count": 131,
   "id": "51166e95-4ad4-4c53-90fd-8ea1add2f575",
   "metadata": {},
   "outputs": [
    {
     "name": "stdout",
     "output_type": "stream",
     "text": [
      "<class 'pandas.core.series.Series'>\n",
      "DatetimeIndex: 928 entries, 1947-01-01 to 2024-04-01\n",
      "Series name: None\n",
      "Non-Null Count  Dtype  \n",
      "--------------  -----  \n",
      "928 non-null    float64\n",
      "dtypes: float64(1)\n",
      "memory usage: 14.5 KB\n"
     ]
    }
   ],
   "source": [
    "cpi = fred.get_series('CPIAUCSL')\n",
    "cpi.info()"
   ]
  },
  {
   "cell_type": "code",
   "execution_count": 132,
   "id": "2687a667-e9af-4a6b-9462-e9d8046e4512",
   "metadata": {},
   "outputs": [
    {
     "name": "stdout",
     "output_type": "stream",
     "text": [
      "<class 'pandas.core.frame.DataFrame'>\n",
      "DatetimeIndex: 928 entries, 1947-01-01 to 2024-04-01\n",
      "Data columns (total 1 columns):\n",
      " #   Column  Non-Null Count  Dtype  \n",
      "---  ------  --------------  -----  \n",
      " 0   None    928 non-null    float64\n",
      "dtypes: float64(1)\n",
      "memory usage: 14.5 KB\n"
     ]
    }
   ],
   "source": [
    "cpi = cpi.to_frame(name=None)\n",
    "cpi.info()"
   ]
  },
  {
   "cell_type": "code",
   "execution_count": 133,
   "id": "f661f916-549b-40f2-8d6c-269e9094d7c3",
   "metadata": {},
   "outputs": [
    {
     "name": "stdout",
     "output_type": "stream",
     "text": [
      "<class 'pandas.core.frame.DataFrame'>\n",
      "DatetimeIndex: 241 entries, 2000-01-01 to 2020-01-01\n",
      "Data columns (total 1 columns):\n",
      " #   Column  Non-Null Count  Dtype  \n",
      "---  ------  --------------  -----  \n",
      " 0   None    241 non-null    float64\n",
      "dtypes: float64(1)\n",
      "memory usage: 3.8 KB\n"
     ]
    }
   ],
   "source": [
    "filtered_df_cpi = cpi[start_date:end_date]\n",
    "filtered_df_cpi.info()"
   ]
  },
  {
   "cell_type": "code",
   "execution_count": 134,
   "id": "c6f573b7-3e81-4b0c-8a57-bcaf33716815",
   "metadata": {},
   "outputs": [
    {
     "name": "stdout",
     "output_type": "stream",
     "text": [
      "<class 'pandas.core.frame.DataFrame'>\n",
      "RangeIndex: 241 entries, 0 to 240\n",
      "Data columns (total 2 columns):\n",
      " #   Column  Non-Null Count  Dtype         \n",
      "---  ------  --------------  -----         \n",
      " 0   Date    241 non-null    datetime64[ns]\n",
      " 1   cpi     241 non-null    float64       \n",
      "dtypes: datetime64[ns](1), float64(1)\n",
      "memory usage: 3.9 KB\n"
     ]
    }
   ],
   "source": [
    "df_reset_cpi = filtered_df_cpi.reset_index()\n",
    "\n",
    "# Rename the new column for clarity (optional)\n",
    "df_reset_cpi = df_reset_cpi.rename(columns={'index': 'Date', None:'cpi' })\n",
    "df_reset_cpi.head()\n",
    "df_reset_cpi.info()"
   ]
  },
  {
   "cell_type": "code",
   "execution_count": 136,
   "id": "8373757a-2315-4d87-9c5d-5034d524bae9",
   "metadata": {},
   "outputs": [],
   "source": [
    "housing_starts = fred.get_series('HOUST')\n",
    "mortgage_rates = fred.get_series('MORTGAGE30US')\n",
    "gdp = fred.get_series('GDP')\n",
    "housing_starts = housing_starts.to_frame(name=None)\n",
    "mortgage_rates = mortgage_rates.to_frame(name=None)\n",
    "gdp = gdp.to_frame(name=None)"
   ]
  },
  {
   "cell_type": "code",
   "execution_count": 137,
   "id": "6b0d484d-a510-454f-8245-dfe065a3cbdc",
   "metadata": {},
   "outputs": [
    {
     "name": "stdout",
     "output_type": "stream",
     "text": [
      "<class 'pandas.core.frame.DataFrame'>\n",
      "DatetimeIndex: 784 entries, 1959-01-01 to 2024-04-01\n",
      "Data columns (total 1 columns):\n",
      " #   Column  Non-Null Count  Dtype  \n",
      "---  ------  --------------  -----  \n",
      " 0   None    784 non-null    float64\n",
      "dtypes: float64(1)\n",
      "memory usage: 12.2 KB\n",
      "<class 'pandas.core.frame.DataFrame'>\n",
      "DatetimeIndex: 2774 entries, 1971-04-02 to 2024-05-23\n",
      "Data columns (total 1 columns):\n",
      " #   Column  Non-Null Count  Dtype  \n",
      "---  ------  --------------  -----  \n",
      " 0   None    2774 non-null   float64\n",
      "dtypes: float64(1)\n",
      "memory usage: 43.3 KB\n",
      "<class 'pandas.core.frame.DataFrame'>\n",
      "DatetimeIndex: 313 entries, 1946-01-01 to 2024-01-01\n",
      "Data columns (total 1 columns):\n",
      " #   Column  Non-Null Count  Dtype  \n",
      "---  ------  --------------  -----  \n",
      " 0   None    309 non-null    float64\n",
      "dtypes: float64(1)\n",
      "memory usage: 4.9 KB\n"
     ]
    }
   ],
   "source": [
    "housing_starts.info()\n",
    "mortgage_rates.info()\n",
    "gdp.info()"
   ]
  },
  {
   "cell_type": "code",
   "execution_count": 139,
   "id": "85186527-4997-4d86-9a4d-65d2bf749520",
   "metadata": {},
   "outputs": [
    {
     "name": "stdout",
     "output_type": "stream",
     "text": [
      "<class 'pandas.core.frame.DataFrame'>\n",
      "DatetimeIndex: 241 entries, 2000-01-01 to 2020-01-01\n",
      "Data columns (total 1 columns):\n",
      " #   Column  Non-Null Count  Dtype  \n",
      "---  ------  --------------  -----  \n",
      " 0   None    241 non-null    float64\n",
      "dtypes: float64(1)\n",
      "memory usage: 3.8 KB\n",
      "<class 'pandas.core.frame.DataFrame'>\n",
      "DatetimeIndex: 1043 entries, 2000-01-07 to 2019-12-26\n",
      "Data columns (total 1 columns):\n",
      " #   Column  Non-Null Count  Dtype  \n",
      "---  ------  --------------  -----  \n",
      " 0   None    1043 non-null   float64\n",
      "dtypes: float64(1)\n",
      "memory usage: 16.3 KB\n",
      "<class 'pandas.core.frame.DataFrame'>\n",
      "DatetimeIndex: 81 entries, 2000-01-01 to 2020-01-01\n",
      "Data columns (total 1 columns):\n",
      " #   Column  Non-Null Count  Dtype  \n",
      "---  ------  --------------  -----  \n",
      " 0   None    81 non-null     float64\n",
      "dtypes: float64(1)\n",
      "memory usage: 1.3 KB\n"
     ]
    }
   ],
   "source": [
    "filtered_df_hs = housing_starts[start_date:end_date]\n",
    "filtered_df_mr = mortgage_rates[start_date:end_date]\n",
    "filtered_df_gdp = gdp[start_date:end_date]\n",
    "filtered_df_hs.info()\n",
    "filtered_df_mr.info()\n",
    "filtered_df_gdp.info()"
   ]
  },
  {
   "cell_type": "code",
   "execution_count": 140,
   "id": "5aec5940-8580-4cbc-b8d0-dafa49495af7",
   "metadata": {},
   "outputs": [
    {
     "name": "stdout",
     "output_type": "stream",
     "text": [
      "<class 'pandas.core.frame.DataFrame'>\n",
      "RangeIndex: 241 entries, 0 to 240\n",
      "Data columns (total 2 columns):\n",
      " #   Column          Non-Null Count  Dtype         \n",
      "---  ------          --------------  -----         \n",
      " 0   Date            241 non-null    datetime64[ns]\n",
      " 1   housing_starts  241 non-null    float64       \n",
      "dtypes: datetime64[ns](1), float64(1)\n",
      "memory usage: 3.9 KB\n",
      "<class 'pandas.core.frame.DataFrame'>\n",
      "RangeIndex: 1043 entries, 0 to 1042\n",
      "Data columns (total 2 columns):\n",
      " #   Column          Non-Null Count  Dtype         \n",
      "---  ------          --------------  -----         \n",
      " 0   Date            1043 non-null   datetime64[ns]\n",
      " 1   mortgage_rates  1043 non-null   float64       \n",
      "dtypes: datetime64[ns](1), float64(1)\n",
      "memory usage: 16.4 KB\n",
      "<class 'pandas.core.frame.DataFrame'>\n",
      "RangeIndex: 81 entries, 0 to 80\n",
      "Data columns (total 2 columns):\n",
      " #   Column  Non-Null Count  Dtype         \n",
      "---  ------  --------------  -----         \n",
      " 0   Date    81 non-null     datetime64[ns]\n",
      " 1   gdp     81 non-null     float64       \n",
      "dtypes: datetime64[ns](1), float64(1)\n",
      "memory usage: 1.4 KB\n"
     ]
    }
   ],
   "source": [
    "df_reset_hs = filtered_df_hs.reset_index()\n",
    "\n",
    "# Rename the new column for clarity (optional)\n",
    "df_reset_hs = df_reset_hs.rename(columns={'index': 'Date', None:'housing_starts' })\n",
    "\n",
    "df_reset_mr = filtered_df_mr.reset_index()\n",
    "\n",
    "# Rename the new column for clarity (optional)\n",
    "df_reset_mr = df_reset_mr.rename(columns={'index': 'Date', None:'mortgage_rates' })\n",
    "\n",
    "df_reset_gdp = filtered_df_gdp.reset_index()\n",
    "\n",
    "# Rename the new column for clarity (optional)\n",
    "df_reset_gdp = df_reset_gdp.rename(columns={'index': 'Date', None:'gdp' })\n",
    "\n",
    "df_reset_hs.info()\n",
    "df_reset_mr.info()\n",
    "df_reset_gdp.info()"
   ]
  },
  {
   "cell_type": "code",
   "execution_count": 170,
   "id": "d84486e7-54c0-4087-beb4-4626248c3a22",
   "metadata": {},
   "outputs": [
    {
     "name": "stdout",
     "output_type": "stream",
     "text": [
      "<class 'pandas.core.frame.DataFrame'>\n",
      "Index: 241 entries, 1035 to 430\n",
      "Data columns (total 2 columns):\n",
      " #   Column          Non-Null Count  Dtype         \n",
      "---  ------          --------------  -----         \n",
      " 0   Date            241 non-null    datetime64[ns]\n",
      " 1   mortgage_rates  241 non-null    float64       \n",
      "dtypes: datetime64[ns](1), float64(1)\n",
      "memory usage: 5.6 KB\n"
     ]
    }
   ],
   "source": [
    "## to reduce the number of entries of mortgage_rates\n",
    "df_reset_mr_s = df_reset_mr\n",
    "sampled_df = df_reset_mr_s.sample(n=241, random_state=42) \n",
    "sampled_df.info()"
   ]
  },
  {
   "cell_type": "code",
   "execution_count": 175,
   "id": "1c298765-300a-4508-8aac-dca85b9f9f15",
   "metadata": {},
   "outputs": [
    {
     "data": {
      "text/html": [
       "<div>\n",
       "<style scoped>\n",
       "    .dataframe tbody tr th:only-of-type {\n",
       "        vertical-align: middle;\n",
       "    }\n",
       "\n",
       "    .dataframe tbody tr th {\n",
       "        vertical-align: top;\n",
       "    }\n",
       "\n",
       "    .dataframe thead th {\n",
       "        text-align: right;\n",
       "    }\n",
       "</style>\n",
       "<table border=\"1\" class=\"dataframe\">\n",
       "  <thead>\n",
       "    <tr style=\"text-align: right;\">\n",
       "      <th></th>\n",
       "      <th>Date</th>\n",
       "      <th>mortgage_rates</th>\n",
       "    </tr>\n",
       "  </thead>\n",
       "  <tbody>\n",
       "    <tr>\n",
       "      <th>1035</th>\n",
       "      <td>2019-11-07</td>\n",
       "      <td>3.69</td>\n",
       "    </tr>\n",
       "    <tr>\n",
       "      <th>280</th>\n",
       "      <td>2005-05-19</td>\n",
       "      <td>5.71</td>\n",
       "    </tr>\n",
       "    <tr>\n",
       "      <th>535</th>\n",
       "      <td>2010-04-08</td>\n",
       "      <td>5.21</td>\n",
       "    </tr>\n",
       "    <tr>\n",
       "      <th>822</th>\n",
       "      <td>2015-10-08</td>\n",
       "      <td>3.76</td>\n",
       "    </tr>\n",
       "    <tr>\n",
       "      <th>643</th>\n",
       "      <td>2012-05-03</td>\n",
       "      <td>3.84</td>\n",
       "    </tr>\n",
       "  </tbody>\n",
       "</table>\n",
       "</div>"
      ],
      "text/plain": [
       "           Date  mortgage_rates\n",
       "1035 2019-11-07            3.69\n",
       "280  2005-05-19            5.71\n",
       "535  2010-04-08            5.21\n",
       "822  2015-10-08            3.76\n",
       "643  2012-05-03            3.84"
      ]
     },
     "execution_count": 175,
     "metadata": {},
     "output_type": "execute_result"
    }
   ],
   "source": [
    "sampled_df.isna().sum()\n",
    "sampled_df.head()"
   ]
  },
  {
   "cell_type": "code",
   "execution_count": null,
   "id": "e4dc0f45-f0af-429a-8473-8027b84bc2c9",
   "metadata": {},
   "outputs": [],
   "source": [
    "###merge"
   ]
  },
  {
   "cell_type": "code",
   "execution_count": 143,
   "id": "a4974c33-dc03-4310-a0ee-834fe2a62458",
   "metadata": {},
   "outputs": [
    {
     "data": {
      "text/plain": [
       "Date    0\n",
       "gdp     0\n",
       "dtype: int64"
      ]
     },
     "execution_count": 143,
     "metadata": {},
     "output_type": "execute_result"
    }
   ],
   "source": [
    "df_reset_gdp.isna().sum()"
   ]
  },
  {
   "cell_type": "code",
   "execution_count": 176,
   "id": "b01d802c-700a-4a50-925e-018d4d2a3ad4",
   "metadata": {},
   "outputs": [],
   "source": [
    "dfs = [df_reset_ffr, df_reset_ur, df_reset_cpi, df_reset_hs]\n",
    "\n",
    "x_df = pd.merge(dfs[0], dfs[1], how='outer', on='Date')\n",
    "for df in dfs[2:]:\n",
    "    x_df = pd.merge(x_df, df, how='outer', on='Date')\n",
    "x_df.set_index('Date', inplace=True)"
   ]
  },
  {
   "cell_type": "code",
   "execution_count": 177,
   "id": "73d4ef19-18be-4830-861a-ce586b601b93",
   "metadata": {},
   "outputs": [
    {
     "name": "stdout",
     "output_type": "stream",
     "text": [
      "<class 'pandas.core.frame.DataFrame'>\n",
      "DatetimeIndex: 241 entries, 2000-01-01 to 2020-01-01\n",
      "Data columns (total 4 columns):\n",
      " #   Column             Non-Null Count  Dtype  \n",
      "---  ------             --------------  -----  \n",
      " 0   Feds_fund_rate     241 non-null    float64\n",
      " 1   unemployment_rate  241 non-null    float64\n",
      " 2   cpi                241 non-null    float64\n",
      " 3   housing_starts     241 non-null    float64\n",
      "dtypes: float64(4)\n",
      "memory usage: 9.4 KB\n"
     ]
    }
   ],
   "source": [
    "x_df.info()"
   ]
  },
  {
   "cell_type": "code",
   "execution_count": 178,
   "id": "24d6db88-6212-4adb-95ba-e7d297953112",
   "metadata": {},
   "outputs": [
    {
     "data": {
      "text/html": [
       "<div>\n",
       "<style scoped>\n",
       "    .dataframe tbody tr th:only-of-type {\n",
       "        vertical-align: middle;\n",
       "    }\n",
       "\n",
       "    .dataframe tbody tr th {\n",
       "        vertical-align: top;\n",
       "    }\n",
       "\n",
       "    .dataframe thead th {\n",
       "        text-align: right;\n",
       "    }\n",
       "</style>\n",
       "<table border=\"1\" class=\"dataframe\">\n",
       "  <thead>\n",
       "    <tr style=\"text-align: right;\">\n",
       "      <th></th>\n",
       "      <th>Feds_fund_rate</th>\n",
       "      <th>unemployment_rate</th>\n",
       "      <th>cpi</th>\n",
       "      <th>housing_starts</th>\n",
       "    </tr>\n",
       "    <tr>\n",
       "      <th>Date</th>\n",
       "      <th></th>\n",
       "      <th></th>\n",
       "      <th></th>\n",
       "      <th></th>\n",
       "    </tr>\n",
       "  </thead>\n",
       "  <tbody>\n",
       "    <tr>\n",
       "      <th>2000-01-01</th>\n",
       "      <td>5.45</td>\n",
       "      <td>4.0</td>\n",
       "      <td>169.3</td>\n",
       "      <td>1636.0</td>\n",
       "    </tr>\n",
       "    <tr>\n",
       "      <th>2000-02-01</th>\n",
       "      <td>5.73</td>\n",
       "      <td>4.1</td>\n",
       "      <td>170.0</td>\n",
       "      <td>1737.0</td>\n",
       "    </tr>\n",
       "    <tr>\n",
       "      <th>2000-03-01</th>\n",
       "      <td>5.85</td>\n",
       "      <td>4.0</td>\n",
       "      <td>171.0</td>\n",
       "      <td>1604.0</td>\n",
       "    </tr>\n",
       "    <tr>\n",
       "      <th>2000-04-01</th>\n",
       "      <td>6.02</td>\n",
       "      <td>3.8</td>\n",
       "      <td>170.9</td>\n",
       "      <td>1626.0</td>\n",
       "    </tr>\n",
       "    <tr>\n",
       "      <th>2000-05-01</th>\n",
       "      <td>6.27</td>\n",
       "      <td>4.0</td>\n",
       "      <td>171.2</td>\n",
       "      <td>1575.0</td>\n",
       "    </tr>\n",
       "  </tbody>\n",
       "</table>\n",
       "</div>"
      ],
      "text/plain": [
       "            Feds_fund_rate  unemployment_rate    cpi  housing_starts\n",
       "Date                                                                \n",
       "2000-01-01            5.45                4.0  169.3          1636.0\n",
       "2000-02-01            5.73                4.1  170.0          1737.0\n",
       "2000-03-01            5.85                4.0  171.0          1604.0\n",
       "2000-04-01            6.02                3.8  170.9          1626.0\n",
       "2000-05-01            6.27                4.0  171.2          1575.0"
      ]
     },
     "execution_count": 178,
     "metadata": {},
     "output_type": "execute_result"
    }
   ],
   "source": [
    "x_df.head()"
   ]
  },
  {
   "cell_type": "code",
   "execution_count": 180,
   "id": "6133f3cc-bea3-4530-bf6c-a7d59a4ac0ee",
   "metadata": {},
   "outputs": [
    {
     "name": "stdout",
     "output_type": "stream",
     "text": [
      "<class 'pandas.core.frame.DataFrame'>\n",
      "RangeIndex: 241 entries, 0 to 240\n",
      "Data columns (total 2 columns):\n",
      " #   Column            Non-Null Count  Dtype         \n",
      "---  ------            --------------  -----         \n",
      " 0   Date              241 non-null    datetime64[ns]\n",
      " 1   Home_Price_Index  241 non-null    float64       \n",
      "dtypes: datetime64[ns](1), float64(1)\n",
      "memory usage: 3.9 KB\n"
     ]
    }
   ],
   "source": [
    "df_reset.info()"
   ]
  },
  {
   "cell_type": "code",
   "execution_count": 181,
   "id": "be538900-dff8-4950-a033-f067271d1b7d",
   "metadata": {},
   "outputs": [],
   "source": [
    "from sklearn.model_selection import train_test_split # Import the train_test_split function from scikit-learn for data splitting.\n",
    "from sklearn.linear_model import LinearRegression  # Import the LinearRegression model from scikit-learn.\n",
    "from sklearn import metrics # Import the metrics module from scikit-learn for evaluating model performance."
   ]
  },
  {
   "cell_type": "code",
   "execution_count": 182,
   "id": "c637156a-8aa5-4469-875c-303b8592d14e",
   "metadata": {},
   "outputs": [],
   "source": [
    "x = x_df[['Feds_fund_rate', 'unemployment_rate','cpi', 'housing_starts']]"
   ]
  },
  {
   "cell_type": "code",
   "execution_count": 183,
   "id": "34889ac5-b63a-46f2-8769-f14884469ee5",
   "metadata": {},
   "outputs": [
    {
     "data": {
      "text/html": [
       "<div>\n",
       "<style scoped>\n",
       "    .dataframe tbody tr th:only-of-type {\n",
       "        vertical-align: middle;\n",
       "    }\n",
       "\n",
       "    .dataframe tbody tr th {\n",
       "        vertical-align: top;\n",
       "    }\n",
       "\n",
       "    .dataframe thead th {\n",
       "        text-align: right;\n",
       "    }\n",
       "</style>\n",
       "<table border=\"1\" class=\"dataframe\">\n",
       "  <thead>\n",
       "    <tr style=\"text-align: right;\">\n",
       "      <th></th>\n",
       "      <th>Feds_fund_rate</th>\n",
       "      <th>unemployment_rate</th>\n",
       "      <th>cpi</th>\n",
       "      <th>housing_starts</th>\n",
       "    </tr>\n",
       "    <tr>\n",
       "      <th>Date</th>\n",
       "      <th></th>\n",
       "      <th></th>\n",
       "      <th></th>\n",
       "      <th></th>\n",
       "    </tr>\n",
       "  </thead>\n",
       "  <tbody>\n",
       "    <tr>\n",
       "      <th>2000-01-01</th>\n",
       "      <td>5.45</td>\n",
       "      <td>4.0</td>\n",
       "      <td>169.3</td>\n",
       "      <td>1636.0</td>\n",
       "    </tr>\n",
       "    <tr>\n",
       "      <th>2000-02-01</th>\n",
       "      <td>5.73</td>\n",
       "      <td>4.1</td>\n",
       "      <td>170.0</td>\n",
       "      <td>1737.0</td>\n",
       "    </tr>\n",
       "    <tr>\n",
       "      <th>2000-03-01</th>\n",
       "      <td>5.85</td>\n",
       "      <td>4.0</td>\n",
       "      <td>171.0</td>\n",
       "      <td>1604.0</td>\n",
       "    </tr>\n",
       "    <tr>\n",
       "      <th>2000-04-01</th>\n",
       "      <td>6.02</td>\n",
       "      <td>3.8</td>\n",
       "      <td>170.9</td>\n",
       "      <td>1626.0</td>\n",
       "    </tr>\n",
       "    <tr>\n",
       "      <th>2000-05-01</th>\n",
       "      <td>6.27</td>\n",
       "      <td>4.0</td>\n",
       "      <td>171.2</td>\n",
       "      <td>1575.0</td>\n",
       "    </tr>\n",
       "    <tr>\n",
       "      <th>2000-06-01</th>\n",
       "      <td>6.53</td>\n",
       "      <td>4.0</td>\n",
       "      <td>172.2</td>\n",
       "      <td>1559.0</td>\n",
       "    </tr>\n",
       "    <tr>\n",
       "      <th>2000-07-01</th>\n",
       "      <td>6.54</td>\n",
       "      <td>4.0</td>\n",
       "      <td>172.7</td>\n",
       "      <td>1463.0</td>\n",
       "    </tr>\n",
       "    <tr>\n",
       "      <th>2000-08-01</th>\n",
       "      <td>6.50</td>\n",
       "      <td>4.1</td>\n",
       "      <td>172.7</td>\n",
       "      <td>1541.0</td>\n",
       "    </tr>\n",
       "    <tr>\n",
       "      <th>2000-09-01</th>\n",
       "      <td>6.52</td>\n",
       "      <td>3.9</td>\n",
       "      <td>173.6</td>\n",
       "      <td>1507.0</td>\n",
       "    </tr>\n",
       "    <tr>\n",
       "      <th>2000-10-01</th>\n",
       "      <td>6.51</td>\n",
       "      <td>3.9</td>\n",
       "      <td>173.9</td>\n",
       "      <td>1549.0</td>\n",
       "    </tr>\n",
       "    <tr>\n",
       "      <th>2000-11-01</th>\n",
       "      <td>6.51</td>\n",
       "      <td>3.9</td>\n",
       "      <td>174.2</td>\n",
       "      <td>1551.0</td>\n",
       "    </tr>\n",
       "    <tr>\n",
       "      <th>2000-12-01</th>\n",
       "      <td>6.40</td>\n",
       "      <td>3.9</td>\n",
       "      <td>174.6</td>\n",
       "      <td>1532.0</td>\n",
       "    </tr>\n",
       "    <tr>\n",
       "      <th>2001-01-01</th>\n",
       "      <td>5.98</td>\n",
       "      <td>4.2</td>\n",
       "      <td>175.6</td>\n",
       "      <td>1600.0</td>\n",
       "    </tr>\n",
       "    <tr>\n",
       "      <th>2001-02-01</th>\n",
       "      <td>5.49</td>\n",
       "      <td>4.2</td>\n",
       "      <td>176.0</td>\n",
       "      <td>1625.0</td>\n",
       "    </tr>\n",
       "    <tr>\n",
       "      <th>2001-03-01</th>\n",
       "      <td>5.31</td>\n",
       "      <td>4.3</td>\n",
       "      <td>176.1</td>\n",
       "      <td>1590.0</td>\n",
       "    </tr>\n",
       "  </tbody>\n",
       "</table>\n",
       "</div>"
      ],
      "text/plain": [
       "            Feds_fund_rate  unemployment_rate    cpi  housing_starts\n",
       "Date                                                                \n",
       "2000-01-01            5.45                4.0  169.3          1636.0\n",
       "2000-02-01            5.73                4.1  170.0          1737.0\n",
       "2000-03-01            5.85                4.0  171.0          1604.0\n",
       "2000-04-01            6.02                3.8  170.9          1626.0\n",
       "2000-05-01            6.27                4.0  171.2          1575.0\n",
       "2000-06-01            6.53                4.0  172.2          1559.0\n",
       "2000-07-01            6.54                4.0  172.7          1463.0\n",
       "2000-08-01            6.50                4.1  172.7          1541.0\n",
       "2000-09-01            6.52                3.9  173.6          1507.0\n",
       "2000-10-01            6.51                3.9  173.9          1549.0\n",
       "2000-11-01            6.51                3.9  174.2          1551.0\n",
       "2000-12-01            6.40                3.9  174.6          1532.0\n",
       "2001-01-01            5.98                4.2  175.6          1600.0\n",
       "2001-02-01            5.49                4.2  176.0          1625.0\n",
       "2001-03-01            5.31                4.3  176.1          1590.0"
      ]
     },
     "execution_count": 183,
     "metadata": {},
     "output_type": "execute_result"
    }
   ],
   "source": [
    "x.head(15)"
   ]
  },
  {
   "cell_type": "code",
   "execution_count": 184,
   "id": "ecb13a00-b772-4267-bac2-05bd54ff486e",
   "metadata": {},
   "outputs": [],
   "source": [
    "# 'y' Represents target variable for modeling\n",
    "\n",
    "y = df_reset[['Home_Price_Index']]"
   ]
  },
  {
   "cell_type": "code",
   "execution_count": 185,
   "id": "29c94e78-5405-4796-bdc3-fbaf1d5e956f",
   "metadata": {},
   "outputs": [
    {
     "data": {
      "text/html": [
       "<div>\n",
       "<style scoped>\n",
       "    .dataframe tbody tr th:only-of-type {\n",
       "        vertical-align: middle;\n",
       "    }\n",
       "\n",
       "    .dataframe tbody tr th {\n",
       "        vertical-align: top;\n",
       "    }\n",
       "\n",
       "    .dataframe thead th {\n",
       "        text-align: right;\n",
       "    }\n",
       "</style>\n",
       "<table border=\"1\" class=\"dataframe\">\n",
       "  <thead>\n",
       "    <tr style=\"text-align: right;\">\n",
       "      <th></th>\n",
       "      <th>Home_Price_Index</th>\n",
       "    </tr>\n",
       "  </thead>\n",
       "  <tbody>\n",
       "    <tr>\n",
       "      <th>0</th>\n",
       "      <td>100.552</td>\n",
       "    </tr>\n",
       "    <tr>\n",
       "      <th>1</th>\n",
       "      <td>101.339</td>\n",
       "    </tr>\n",
       "    <tr>\n",
       "      <th>2</th>\n",
       "      <td>102.126</td>\n",
       "    </tr>\n",
       "    <tr>\n",
       "      <th>3</th>\n",
       "      <td>102.922</td>\n",
       "    </tr>\n",
       "    <tr>\n",
       "      <th>4</th>\n",
       "      <td>103.678</td>\n",
       "    </tr>\n",
       "  </tbody>\n",
       "</table>\n",
       "</div>"
      ],
      "text/plain": [
       "   Home_Price_Index\n",
       "0           100.552\n",
       "1           101.339\n",
       "2           102.126\n",
       "3           102.922\n",
       "4           103.678"
      ]
     },
     "execution_count": 185,
     "metadata": {},
     "output_type": "execute_result"
    }
   ],
   "source": [
    "y.head(5)"
   ]
  },
  {
   "cell_type": "code",
   "execution_count": 186,
   "id": "81e7dcff-6b59-4692-aa55-73d69f0bc0d6",
   "metadata": {},
   "outputs": [
    {
     "data": {
      "text/html": [
       "<style>#sk-container-id-1 {color: black;background-color: white;}#sk-container-id-1 pre{padding: 0;}#sk-container-id-1 div.sk-toggleable {background-color: white;}#sk-container-id-1 label.sk-toggleable__label {cursor: pointer;display: block;width: 100%;margin-bottom: 0;padding: 0.3em;box-sizing: border-box;text-align: center;}#sk-container-id-1 label.sk-toggleable__label-arrow:before {content: \"▸\";float: left;margin-right: 0.25em;color: #696969;}#sk-container-id-1 label.sk-toggleable__label-arrow:hover:before {color: black;}#sk-container-id-1 div.sk-estimator:hover label.sk-toggleable__label-arrow:before {color: black;}#sk-container-id-1 div.sk-toggleable__content {max-height: 0;max-width: 0;overflow: hidden;text-align: left;background-color: #f0f8ff;}#sk-container-id-1 div.sk-toggleable__content pre {margin: 0.2em;color: black;border-radius: 0.25em;background-color: #f0f8ff;}#sk-container-id-1 input.sk-toggleable__control:checked~div.sk-toggleable__content {max-height: 200px;max-width: 100%;overflow: auto;}#sk-container-id-1 input.sk-toggleable__control:checked~label.sk-toggleable__label-arrow:before {content: \"▾\";}#sk-container-id-1 div.sk-estimator input.sk-toggleable__control:checked~label.sk-toggleable__label {background-color: #d4ebff;}#sk-container-id-1 div.sk-label input.sk-toggleable__control:checked~label.sk-toggleable__label {background-color: #d4ebff;}#sk-container-id-1 input.sk-hidden--visually {border: 0;clip: rect(1px 1px 1px 1px);clip: rect(1px, 1px, 1px, 1px);height: 1px;margin: -1px;overflow: hidden;padding: 0;position: absolute;width: 1px;}#sk-container-id-1 div.sk-estimator {font-family: monospace;background-color: #f0f8ff;border: 1px dotted black;border-radius: 0.25em;box-sizing: border-box;margin-bottom: 0.5em;}#sk-container-id-1 div.sk-estimator:hover {background-color: #d4ebff;}#sk-container-id-1 div.sk-parallel-item::after {content: \"\";width: 100%;border-bottom: 1px solid gray;flex-grow: 1;}#sk-container-id-1 div.sk-label:hover label.sk-toggleable__label {background-color: #d4ebff;}#sk-container-id-1 div.sk-serial::before {content: \"\";position: absolute;border-left: 1px solid gray;box-sizing: border-box;top: 0;bottom: 0;left: 50%;z-index: 0;}#sk-container-id-1 div.sk-serial {display: flex;flex-direction: column;align-items: center;background-color: white;padding-right: 0.2em;padding-left: 0.2em;position: relative;}#sk-container-id-1 div.sk-item {position: relative;z-index: 1;}#sk-container-id-1 div.sk-parallel {display: flex;align-items: stretch;justify-content: center;background-color: white;position: relative;}#sk-container-id-1 div.sk-item::before, #sk-container-id-1 div.sk-parallel-item::before {content: \"\";position: absolute;border-left: 1px solid gray;box-sizing: border-box;top: 0;bottom: 0;left: 50%;z-index: -1;}#sk-container-id-1 div.sk-parallel-item {display: flex;flex-direction: column;z-index: 1;position: relative;background-color: white;}#sk-container-id-1 div.sk-parallel-item:first-child::after {align-self: flex-end;width: 50%;}#sk-container-id-1 div.sk-parallel-item:last-child::after {align-self: flex-start;width: 50%;}#sk-container-id-1 div.sk-parallel-item:only-child::after {width: 0;}#sk-container-id-1 div.sk-dashed-wrapped {border: 1px dashed gray;margin: 0 0.4em 0.5em 0.4em;box-sizing: border-box;padding-bottom: 0.4em;background-color: white;}#sk-container-id-1 div.sk-label label {font-family: monospace;font-weight: bold;display: inline-block;line-height: 1.2em;}#sk-container-id-1 div.sk-label-container {text-align: center;}#sk-container-id-1 div.sk-container {/* jupyter's `normalize.less` sets `[hidden] { display: none; }` but bootstrap.min.css set `[hidden] { display: none !important; }` so we also need the `!important` here to be able to override the default hidden behavior on the sphinx rendered scikit-learn.org. See: https://github.com/scikit-learn/scikit-learn/issues/21755 */display: inline-block !important;position: relative;}#sk-container-id-1 div.sk-text-repr-fallback {display: none;}</style><div id=\"sk-container-id-1\" class=\"sk-top-container\"><div class=\"sk-text-repr-fallback\"><pre>LinearRegression()</pre><b>In a Jupyter environment, please rerun this cell to show the HTML representation or trust the notebook. <br />On GitHub, the HTML representation is unable to render, please try loading this page with nbviewer.org.</b></div><div class=\"sk-container\" hidden><div class=\"sk-item\"><div class=\"sk-estimator sk-toggleable\"><input class=\"sk-toggleable__control sk-hidden--visually\" id=\"sk-estimator-id-1\" type=\"checkbox\" checked><label for=\"sk-estimator-id-1\" class=\"sk-toggleable__label sk-toggleable__label-arrow\">LinearRegression</label><div class=\"sk-toggleable__content\"><pre>LinearRegression()</pre></div></div></div></div></div>"
      ],
      "text/plain": [
       "LinearRegression()"
      ]
     },
     "execution_count": 186,
     "metadata": {},
     "output_type": "execute_result"
    }
   ],
   "source": [
    "# Split the feature data 'x' and target variable 'y' into training and testing sets.\n",
    "\n",
    "X_train, X_test, y_train, y_test = train_test_split(x, y, test_size=0.3, shuffle=False, stratify=None)\n",
    "# Creating Linear Regression model instance\n",
    "\n",
    "model = LinearRegression()\n",
    "# Train the model using corresponding feature and target values\n",
    "\n",
    "model.fit(X_train, y_train)"
   ]
  },
  {
   "cell_type": "code",
   "execution_count": 187,
   "id": "dc5b9dca-8653-476a-8860-8db50e4e8c01",
   "metadata": {},
   "outputs": [
    {
     "data": {
      "text/plain": [
       "array([[171.29687413],\n",
       "       [174.04355795],\n",
       "       [175.85062291]])"
      ]
     },
     "execution_count": 187,
     "metadata": {},
     "output_type": "execute_result"
    }
   ],
   "source": [
    "# Make predictions on the test data 'X_test'\n",
    "\n",
    "y_predict = model.predict(X_test)\n",
    "y_predict[0:3]"
   ]
  },
  {
   "cell_type": "code",
   "execution_count": 188,
   "id": "e666ddb8-19db-4e9e-b1c9-0f3a6ce4424c",
   "metadata": {},
   "outputs": [
    {
     "name": "stdout",
     "output_type": "stream",
     "text": [
      "[[4.81516435 1.7364448  1.56420765 0.03871267]]\n"
     ]
    }
   ],
   "source": [
    "#  Finding out the relationship between each feature and the target variable.\n",
    "\n",
    "print(model.coef_)"
   ]
  },
  {
   "cell_type": "code",
   "execution_count": 189,
   "id": "cbfbdb35-b79f-4e00-9891-805a8cb8edd5",
   "metadata": {},
   "outputs": [
    {
     "name": "stdout",
     "output_type": "stream",
     "text": [
      "[-242.91686457]\n"
     ]
    }
   ],
   "source": [
    "# Printing estimated values(intercepts) when all features are zero\n",
    "\n",
    "print(model.intercept_)\n"
   ]
  },
  {
   "cell_type": "code",
   "execution_count": 190,
   "id": "36630fb2-a340-40bf-bf1e-a5ce5d777ceb",
   "metadata": {},
   "outputs": [
    {
     "name": "stdout",
     "output_type": "stream",
     "text": [
      "0.6644814113254922\n"
     ]
    }
   ],
   "source": [
    "print(model.score(X_train, y_train))"
   ]
  },
  {
   "cell_type": "code",
   "execution_count": 191,
   "id": "fdb5d94e-fbf6-4d91-aa25-8cc4c1870f62",
   "metadata": {},
   "outputs": [
    {
     "name": "stdout",
     "output_type": "stream",
     "text": [
      "0.5302154614886507\n"
     ]
    }
   ],
   "source": [
    "print(model.score(X_test, y_test))"
   ]
  },
  {
   "cell_type": "code",
   "execution_count": 192,
   "id": "0b8d2f1e-7430-45be-a603-0ff126e8e4c5",
   "metadata": {},
   "outputs": [
    {
     "name": "stdout",
     "output_type": "stream",
     "text": [
      "Mean Absolute Error: 10.482693146376702\n"
     ]
    }
   ],
   "source": [
    "print('Mean Absolute Error:', metrics.mean_absolute_error(y_test, y_predict))"
   ]
  },
  {
   "cell_type": "code",
   "execution_count": 193,
   "id": "446934b1-8c7b-466e-a3ec-94be75c4c8fb",
   "metadata": {},
   "outputs": [
    {
     "name": "stdout",
     "output_type": "stream",
     "text": [
      "Mean Squared Error: 125.25227355358389\n"
     ]
    }
   ],
   "source": [
    "print('Mean Squared Error:', metrics.mean_squared_error(y_test, y_predict))"
   ]
  },
  {
   "cell_type": "code",
   "execution_count": 194,
   "id": "0a722f06-5cb3-439f-b0c8-e7ab60c90fa9",
   "metadata": {},
   "outputs": [
    {
     "name": "stdout",
     "output_type": "stream",
     "text": [
      "Root Mean Squared Error: 11.191616217221885\n"
     ]
    }
   ],
   "source": [
    "import numpy as np\n",
    "\n",
    "print('Root Mean Squared Error:', np.sqrt(metrics.mean_squared_error(y_test, y_predict)))"
   ]
  },
  {
   "cell_type": "code",
   "execution_count": 195,
   "id": "a839bdb5-513a-4904-a08d-c0046d802d18",
   "metadata": {},
   "outputs": [
    {
     "name": "stdout",
     "output_type": "stream",
     "text": [
      "       Home_Price_Index\n",
      "count         73.000000\n",
      "mean         187.238027\n",
      "std           16.441394\n",
      "min          161.925000\n",
      "25%          172.144000\n",
      "50%          186.797000\n",
      "75%          202.906000\n",
      "max          215.021000\n"
     ]
    }
   ],
   "source": [
    "print(y_test.describe())"
   ]
  },
  {
   "cell_type": "code",
   "execution_count": 196,
   "id": "a260bdca-ec35-441f-aebc-75857783ffe6",
   "metadata": {},
   "outputs": [
    {
     "data": {
      "text/html": [
       "<div>\n",
       "<style scoped>\n",
       "    .dataframe tbody tr th:only-of-type {\n",
       "        vertical-align: middle;\n",
       "    }\n",
       "\n",
       "    .dataframe tbody tr th {\n",
       "        vertical-align: top;\n",
       "    }\n",
       "\n",
       "    .dataframe thead th {\n",
       "        text-align: right;\n",
       "    }\n",
       "</style>\n",
       "<table border=\"1\" class=\"dataframe\">\n",
       "  <thead>\n",
       "    <tr style=\"text-align: right;\">\n",
       "      <th></th>\n",
       "      <th>Actual</th>\n",
       "      <th>Predicted</th>\n",
       "    </tr>\n",
       "  </thead>\n",
       "  <tbody>\n",
       "    <tr>\n",
       "      <th>168</th>\n",
       "      <td>161.925</td>\n",
       "      <td>171.296874</td>\n",
       "    </tr>\n",
       "    <tr>\n",
       "      <th>169</th>\n",
       "      <td>162.524</td>\n",
       "      <td>174.043558</td>\n",
       "    </tr>\n",
       "    <tr>\n",
       "      <th>170</th>\n",
       "      <td>163.084</td>\n",
       "      <td>175.850623</td>\n",
       "    </tr>\n",
       "    <tr>\n",
       "      <th>171</th>\n",
       "      <td>163.390</td>\n",
       "      <td>178.544828</td>\n",
       "    </tr>\n",
       "    <tr>\n",
       "      <th>172</th>\n",
       "      <td>163.656</td>\n",
       "      <td>178.028710</td>\n",
       "    </tr>\n",
       "    <tr>\n",
       "      <th>173</th>\n",
       "      <td>164.066</td>\n",
       "      <td>174.502754</td>\n",
       "    </tr>\n",
       "    <tr>\n",
       "      <th>174</th>\n",
       "      <td>164.584</td>\n",
       "      <td>181.781895</td>\n",
       "    </tr>\n",
       "    <tr>\n",
       "      <th>175</th>\n",
       "      <td>165.212</td>\n",
       "      <td>177.638830</td>\n",
       "    </tr>\n",
       "    <tr>\n",
       "      <th>176</th>\n",
       "      <td>165.903</td>\n",
       "      <td>178.827927</td>\n",
       "    </tr>\n",
       "    <tr>\n",
       "      <th>177</th>\n",
       "      <td>166.639</td>\n",
       "      <td>180.381467</td>\n",
       "    </tr>\n",
       "  </tbody>\n",
       "</table>\n",
       "</div>"
      ],
      "text/plain": [
       "      Actual   Predicted\n",
       "168  161.925  171.296874\n",
       "169  162.524  174.043558\n",
       "170  163.084  175.850623\n",
       "171  163.390  178.544828\n",
       "172  163.656  178.028710\n",
       "173  164.066  174.502754\n",
       "174  164.584  181.781895\n",
       "175  165.212  177.638830\n",
       "176  165.903  178.827927\n",
       "177  166.639  180.381467"
      ]
     },
     "execution_count": 196,
     "metadata": {},
     "output_type": "execute_result"
    }
   ],
   "source": [
    "# Actual target values from y_test vs predicted values by the model\n",
    "\n",
    "result = pd.DataFrame({'Actual': y_test.squeeze(), 'Predicted': y_predict.squeeze()})\n",
    "result.head(10)"
   ]
  },
  {
   "cell_type": "code",
   "execution_count": null,
   "id": "f82ed85b-d228-44b5-97e2-308b5372e5cb",
   "metadata": {},
   "outputs": [],
   "source": []
  }
 ],
 "metadata": {
  "kernelspec": {
   "display_name": "Python 3 (ipykernel)",
   "language": "python",
   "name": "python3"
  },
  "language_info": {
   "codemirror_mode": {
    "name": "ipython",
    "version": 3
   },
   "file_extension": ".py",
   "mimetype": "text/x-python",
   "name": "python",
   "nbconvert_exporter": "python",
   "pygments_lexer": "ipython3",
   "version": "3.11.7"
  }
 },
 "nbformat": 4,
 "nbformat_minor": 5
}
